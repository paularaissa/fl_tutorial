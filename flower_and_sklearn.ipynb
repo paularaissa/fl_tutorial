{
 "cells": [
  {
   "cell_type": "markdown",
   "source": [
    "# Get Started with Flower Framework\n",
    "\n",
    "Welcome to Federated Learning Tutorial using Flower Framework. Flower is a unified approach to federated learning, analytics, and evaluation. Open source, python, and easy to learn and personalize.\n",
    "\n",
    "https://flower.ai/"
   ],
   "metadata": {
    "collapsed": false,
    "id": "patF0uwCWjaB"
   }
  },
  {
   "cell_type": "markdown",
   "source": [
    "## Step 0: Preparation\n",
    "\n",
    "Before we begin with any actual code, let's make sure that we have everything we need.\n",
    "\n",
    "### Instaling dependencies\n",
    "First, we should install the necessary packages"
   ],
   "metadata": {
    "id": "s4VRMk-vZKP8"
   }
  },
  {
   "cell_type": "code",
   "execution_count": null,
   "outputs": [],
   "source": [
    "# Linux\n",
    "!pip install protobuf==4.25.3\n",
    "!pip install -q flwr[simulation] matplotlib\n",
    "#!pip install --upgrade tensorflow-metadata\n",
    "\n",
    "# MacOs\n",
    "#!pip3 install -U 'flwr[simulation]' torch torchvision scipy"
   ],
   "metadata": {
    "collapsed": true,
    "colab": {
     "base_uri": "https://localhost:8080/"
    },
    "id": "kFrw3tmbWjaE",
    "outputId": "a3cf4560-16d6-4776-9a07-3b8bcd24d95f"
   }
  },
  {
   "cell_type": "markdown",
   "source": [
    "Now that we have all dependencies installed, we can import everything we need for this tutorial:"
   ],
   "metadata": {
    "id": "VkOhnSiq-HZY"
   }
  },
  {
   "cell_type": "code",
   "source": [
    "from collections import OrderedDict\n",
    "from typing import List, Tuple\n",
    "\n",
    "import matplotlib.pyplot as plt\n",
    "import requests\n",
    "import pandas as pd\n",
    "import numpy as np\n",
    "\n",
    "import flwr as fl\n",
    "from flwr.common import Metrics\n",
    "\n",
    "from sklearn.model_selection import train_test_split\n",
    "from sklearn.linear_model import LogisticRegression\n",
    "from sklearn.metrics import accuracy_score\n",
    "from sklearn.datasets import load_iris"
   ],
   "metadata": {
    "id": "l9QJfmzK-UPt"
   },
   "execution_count": null,
   "outputs": []
  },
  {
   "cell_type": "markdown",
   "source": [
    "It is possible to switch to a runtime that has GPU acceleration enabled (on Google Colab: Runtime > Change runtime type > Hardware accelerator: GPU > Save). Note, however, that Google Colab is not always able to offer GPU acceleration. If you see an error related to GPU availability in one of the following sections, consider switching back to CPU-based execution by setting DEVICE = torch.device(\"cpu\"). If the runtime has GPU acceleration enabled, you should see the output Training on cuda, otherwise it'll say Training on cpu."
   ],
   "metadata": {
    "id": "v5lpiayB-Xq6"
   }
  },
  {
   "cell_type": "markdown",
   "source": [
    "### Loading the data\n",
    "\n",
    "Federated learning can be applied to many different types of tasks across different domains. In this tutorial, we introduce federated learning by training a simple Linear Regression on the popular Abalone dataset. Abalone can be used in classification and regression tasks using 9 features: Sex, Length, Diameter, Height, Whole_weight, Shucked_weight, Viscera_weight, Shell_weight, and Rings."
   ],
   "metadata": {
    "id": "mC9VXsYY-ilX"
   }
  },
  {
   "cell_type": "markdown",
   "source": [
    "We simulate having multiple datasets from multiple organizations (also called the \"cross-silo\" setting in federated learning) by splitting the original Abalone dataset into multiple partitions. Each partition will represent the data from a single organization. We're doing this purely for experimentation purposes.\n",
    "\n",
    "Each organization will act as a client in the federated learning system. So having 3 organizations participate in a federation means having 3 clients connected to the federated learning server.\n"
   ],
   "metadata": {
    "id": "e6NDMtfXAcHt"
   }
  },
  {
   "cell_type": "markdown",
   "source": [
    "Let's now create the Federated Dataset abstraction that from flwr-datasets that partitions the Abalone. We will create small training and test set for each edge device and wrap each of them into a PyTorch DataLoader:"
   ],
   "metadata": {
    "id": "Rf89sMcRAy8q"
   }
  },
  {
   "cell_type": "code",
   "source": [
    "NUM_CLIENTS = 2\n",
    "\n",
    "def load_data():\n",
    "    data = load_iris()\n",
    "    X, y = data.data, data.target\n",
    "\n",
    "    X_train, X_test, y_train, y_test = train_test_split(X, y, test_size=0.2, random_state=42)\n",
    "    return X_train, X_test, y_train, y_test\n",
    "\n",
    "def partition_data(X, y, num_clients):\n",
    "    partition_size = len(X) // num_clients\n",
    "    partitions = [(X[i * partition_size:(i + 1) * partition_size], y[i * partition_size:(i + 1) * partition_size])\n",
    "                  for i in range(num_clients)]\n",
    "    return partitions\n"
   ],
   "metadata": {
    "id": "_9moWzo8A5SF"
   },
   "execution_count": null,
   "outputs": []
  },
  {
   "cell_type": "markdown",
   "source": [
    "### Implementing Flower Client"
   ],
   "metadata": {
    "id": "lLOd_wKsOFvm"
   }
  },
  {
   "cell_type": "code",
   "source": [
    "from collections import OrderedDict\n",
    "from typing import Dict, List, Tuple\n",
    "from sklearn.metrics import log_loss, accuracy_score, classification_report, confusion_matrix, roc_curve, roc_auc_score\n",
    "\n",
    "from flwr.common import NDArrays, Scalar, Status, Code\n",
    "\n",
    "# in the python file you want to add custom messages to the Flower log\n",
    "from logging import INFO, DEBUG\n",
    "from flwr.common.logger import log\n",
    "\n",
    "class SklearnClient(fl.client.NumPyClient):\n",
    "    def __init__(self, X_train, y_train, X_test, y_test, cid):\n",
    "      #super().__init__()\n",
    "      self.model = LogisticRegression(penalty=\"l2\", max_iter=100, warm_start=True)\n",
    "      self.X_train = X_train\n",
    "      self.y_train = y_train\n",
    "      self.X_test = X_test\n",
    "      self.y_test = y_test\n",
    "      self.cid = cid\n",
    "      self.set_initial_params()\n",
    "\n",
    "    def set_initial_params(self):\n",
    "        \"\"\"Sets initial parameters as zeros Required since model params are uninitialized\n",
    "        until model.fit is called.\n",
    "\n",
    "        But server asks for initial parameters from clients at launch. Refer to\n",
    "        sklearn.linear_model.LogisticRegression documentation for more information.\n",
    "        \"\"\"\n",
    "        unique_classes = np.unique(self.y_train)\n",
    "        n_classes = len(unique_classes) # Iris has 3 classes\n",
    "        n_features = self.X_train.shape[1] # Number of features in dataset\n",
    "        self.model.classes_ = np.array([i for i in range(n_classes)])\n",
    "\n",
    "        self.model.coef_ = np.zeros((n_classes, n_features))\n",
    "        if self.model.fit_intercept:\n",
    "            self.model.intercept_ = np.zeros((n_classes,))\n",
    "\n",
    "    def get_parameters(self, config=None):\n",
    "      if not hasattr(self.model, \"coef_\"):\n",
    "        self.model.fit(self.X_train[:1], self.y_train[:1])\n",
    "\n",
    "      if self.model.fit_intercept:\n",
    "        params = [\n",
    "            self.model.coef_,\n",
    "            self.model.intercept_\n",
    "        ]\n",
    "      else:\n",
    "        params = [\n",
    "            self.model.coef_\n",
    "        ]\n",
    "      return [param.astype(np.float32) for param in params]\n",
    "\n",
    "    def set_parameters(self, parameters):\n",
    "      if self.model.fit_intercept:\n",
    "        self.model.coef_ = parameters[0]\n",
    "        self.model.intercept_ = parameters[1]\n",
    "      else:\n",
    "        self.model.coef_ = parameters[0]\n",
    "      return self.model\n",
    "\n",
    "    def fit(self, parameters, config):\n",
    "        self.set_parameters(parameters)\n",
    "        self.model.fit(self.X_train, self.y_train)\n",
    "        # print(f\"Training finished for round {config}\")\n",
    "        return self.get_parameters(), len(self.X_train), {}\n",
    "\n",
    "    def evaluate(self, parameters, config):\n",
    "        self.set_parameters(parameters)\n",
    "        y_pred = self.model.predict(self.X_test)\n",
    "        loss = 1 - accuracy_score(self.y_test, y_pred)\n",
    "        # loss = log_loss(self.y_test, model.predict_proba(X_test))\n",
    "        accuracy = self.model.score(self.X_test, self.y_test)\n",
    "        cid_ = self.cid\n",
    "        report = classification_report(self.y_test, y_pred)\n",
    "\n",
    "        # print(\"******* accuracy \")\n",
    "        # print(accuracy)\n",
    "        # print(\"*** Classification Report ***:\")\n",
    "        # print(classification_report(self.y_test, y_pred))\n",
    "\n",
    "        message = \"Client \" + str(cid_) + \" accuracy: \" + str(accuracy)\n",
    "\n",
    "        log(DEBUG, message)\n",
    "\n",
    "        #log(DEBUG, f\"Client {self.cid} is doing fit() with config:\")\n",
    "\n",
    "        return loss, len(self.X_test), {\"accuracy\": accuracy}\n"
   ],
   "metadata": {
    "id": "SufAPyiYOFgo"
   },
   "execution_count": null,
   "outputs": []
  },
  {
   "cell_type": "markdown",
   "source": [
    "### Using the Virtual Client Engine"
   ],
   "metadata": {
    "id": "WbAryD6NOPO9"
   }
  },
  {
   "cell_type": "code",
   "source": [
    "def client_fn(cid: str) -> fl.client.Client:\n",
    "  X_train, X_test, y_train, y_test = load_data()\n",
    "  num_clients = NUM_CLIENTS  # Number of clients should match the number of partitions\n",
    "  partitions = partition_data(X_train, y_train, num_clients)\n",
    "\n",
    "  partition_id = int(cid)\n",
    "\n",
    "  # print(\"##### Partition id #######\" + cid)\n",
    "\n",
    "  X_train_cid, y_train_cid = partitions[partition_id]\n",
    "\n",
    "  #return SklearnClient(X_train_cid, y_train_cid, X_test, y_test).to_client()\n",
    "  return SklearnClient(X_train_cid, y_train_cid, X_test, y_test, cid)"
   ],
   "metadata": {
    "id": "C4_MPS4YOTcV"
   },
   "execution_count": null,
   "outputs": []
  },
  {
   "cell_type": "markdown",
   "source": [
    "### Start the training"
   ],
   "metadata": {
    "id": "ed1ovJDoOX2w"
   }
  },
  {
   "cell_type": "code",
   "source": [
    "def fit_config(server_round) -> Dict:\n",
    "    \"\"\"Send round number to client.\"\"\"\n",
    "    config = {\n",
    "        \"server_round\": server_round\n",
    "    }\n",
    "    return config\n",
    "\n",
    "# Define the strategy\n",
    "strategy = fl.server.strategy.FedAvg(\n",
    "    fraction_fit=1.0,\n",
    "    fraction_evaluate=1.0,\n",
    "    min_fit_clients=1,\n",
    "    min_evaluate_clients=1,\n",
    "    min_available_clients=1,\n",
    "    on_fit_config_fn=fit_config\n",
    ")\n",
    "\n",
    "# Simulation configuration\n",
    "client_resources = {\"num_cpus\": 1}\n",
    "num_clients = NUM_CLIENTS\n",
    "num_rounds = 5\n"
   ],
   "metadata": {
    "id": "MDH8GbikOaak"
   },
   "execution_count": null,
   "outputs": []
  },
  {
   "cell_type": "code",
   "source": [
    "fl.simulation.start_simulation(\n",
    " # strategy=strategy, # the strategy that will construct a client\n",
    "  client_fn=client_fn, # a function to construct a client\n",
    "  num_clients=num_clients, # total number of clients in the experiment\n",
    "  config=fl.server.ServerConfig(num_rounds=2), #let's run for 1 rounds\n",
    "  client_resources=client_resources,\n",
    ")\n"
   ],
   "metadata": {
    "colab": {
     "base_uri": "https://localhost:8080/"
    },
    "id": "l54CPPlds0Z7",
    "outputId": "4cc5db2d-129a-4816-f1f1-be1134bda978"
   },
   "execution_count": null,
   "outputs": []
  },
  {
   "cell_type": "code",
   "execution_count": null,
   "outputs": [],
   "source": [
    "\n",
    "## Salvar os resultados de cada cliente em um ficheiro csv\n",
    "## Exibir o resultado de cada cliente no último bloco de código\n"
   ],
   "metadata": {
    "collapsed": false
   }
  }
 ],
 "metadata": {
  "kernelspec": {
   "display_name": "Python 3",
   "language": "python",
   "name": "python3"
  },
  "language_info": {
   "codemirror_mode": {
    "name": "ipython",
    "version": 2
   },
   "file_extension": ".py",
   "mimetype": "text/x-python",
   "name": "python",
   "nbconvert_exporter": "python",
   "pygments_lexer": "ipython2",
   "version": "2.7.6"
  },
  "colab": {
   "provenance": []
  }
 },
 "nbformat": 4,
 "nbformat_minor": 0
}
