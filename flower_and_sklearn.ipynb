{
  "cells": [
    {
      "cell_type": "markdown",
      "source": [
        "# Get Started with Flower Framework\n",
        "\n",
        "Welcome to Federated Learning Tutorial using Flower Framework. Flower is a unified approach to federated learning, analytics, and evaluation. Open source, python, and easy to learn and personalize.\n",
        "\n",
        "https://flower.ai/"
      ],
      "metadata": {
        "collapsed": false,
        "id": "patF0uwCWjaB"
      }
    },
    {
      "cell_type": "markdown",
      "source": [
        "## Step 0: Preparation\n",
        "\n",
        "Before we begin with any actual code, let's make sure that we have everything we need.\n",
        "\n",
        "### Instaling dependencies\n",
        "First, we should install the necessary packages. In this case we are using Flower Framework with the Simulation module."
      ],
      "metadata": {
        "id": "s4VRMk-vZKP8"
      }
    },
    {
      "cell_type": "code",
      "execution_count": 5,
      "outputs": [
        {
          "output_type": "stream",
          "name": "stdout",
          "text": [
            "Requirement already satisfied: cryptography<45,>=44.0.1 in /usr/local/lib/python3.11/dist-packages (44.0.2)\n",
            "Requirement already satisfied: cffi>=1.12 in /usr/local/lib/python3.11/dist-packages (from cryptography<45,>=44.0.1) (1.17.1)\n",
            "Requirement already satisfied: pycparser in /usr/local/lib/python3.11/dist-packages (from cffi>=1.12->cryptography<45,>=44.0.1) (2.22)\n",
            "Requirement already satisfied: protobuf<5.0.0,>=4.21.6 in /usr/local/lib/python3.11/dist-packages (4.25.6)\n"
          ]
        }
      ],
      "source": [
        "## Jump to the next block of code if you already installed the packages.\n",
        "\n",
        "# Linux\n",
        "!pip install 'cryptography<45,>=44.0.1'\n",
        "!pip install 'protobuf>=4.21.6,<5.0.0'\n",
        "!pip install -q flwr[simulation]\n",
        "\n",
        "# MacOs\n",
        "#!pip3 install -U 'flwr[simulation]'"
      ],
      "metadata": {
        "collapsed": true,
        "colab": {
          "base_uri": "https://localhost:8080/"
        },
        "id": "kFrw3tmbWjaE",
        "outputId": "e715b7cd-feaa-4bac-d962-0eaf599e9ab6"
      }
    },
    {
      "cell_type": "markdown",
      "source": [
        "Now that we have all dependencies installed, we can import everything we need for this tutorial:"
      ],
      "metadata": {
        "id": "VkOhnSiq-HZY"
      }
    },
    {
      "cell_type": "code",
      "source": [
        "import numpy as np\n",
        "\n",
        "import flwr as fl\n",
        "from flwr.common import Metrics\n",
        "\n",
        "from sklearn.model_selection import train_test_split\n",
        "from sklearn.linear_model import LogisticRegression\n",
        "from sklearn.datasets import load_iris"
      ],
      "metadata": {
        "id": "l9QJfmzK-UPt"
      },
      "execution_count": 6,
      "outputs": []
    },
    {
      "cell_type": "markdown",
      "source": [
        "It is possible to switch to a runtime that has GPU acceleration enabled (on Google Colab: Runtime > Change runtime type > Hardware accelerator: GPU > Save). Note, however, that Google Colab is not always able to offer GPU acceleration. If you see an error related to GPU availability in one of the following sections, consider switching back to CPU-based execution by setting DEVICE = torch.device(\"cpu\"). If the runtime has GPU acceleration enabled, you should see the output Training on cuda, otherwise it'll say Training on cpu."
      ],
      "metadata": {
        "id": "v5lpiayB-Xq6"
      }
    },
    {
      "cell_type": "markdown",
      "source": [
        "### Loading the data\n",
        "\n",
        "Federated learning can be applied to many different types of tasks across different domains. In this tutorial, we introduce federated learning by training a Logistic Regression on the popular Iris dataset."
      ],
      "metadata": {
        "id": "mC9VXsYY-ilX"
      }
    },
    {
      "cell_type": "markdown",
      "source": [
        "We simulate having multiple datasets from multiple organizations (also called the \"cross-silo\" setting in federated learning) by splitting the original Iris dataset into multiple partitions. Each partition will represent the data from a single organization. We're doing this purely for experimentation purposes.\n",
        "\n",
        "Each organization will act as a client in the federated learning system. So having 3 organizations participate in a federation means having 3 clients connected to the federated learning server.\n"
      ],
      "metadata": {
        "id": "e6NDMtfXAcHt"
      }
    },
    {
      "cell_type": "markdown",
      "source": [
        "Let's now create the Federated Dataset abstraction that from flwr-datasets that partitions the Iris. We will create small training and test set for each edge device and wrap each of them into a DataLoader:"
      ],
      "metadata": {
        "id": "Rf89sMcRAy8q"
      }
    },
    {
      "cell_type": "code",
      "source": [
        "NUM_CLIENTS = 3\n",
        "\n",
        "def load_data():\n",
        "    data = load_iris()\n",
        "    X, y = data.data, data.target\n",
        "\n",
        "    # Filter to remove one class, and force the problem to be binary to run a logistic regression\n",
        "    mask = y != 2\n",
        "    X_filtered = X[mask]\n",
        "    y_filtered = y[mask]\n",
        "\n",
        "    X_train, X_test, y_train, y_test = train_test_split(X_filtered, y_filtered, test_size=0.2, random_state=42)\n",
        "    return X_train, X_test, y_train, y_test\n",
        "\n",
        "def partition_data(X, y, num_clients):\n",
        "    partition_size = len(X) // num_clients\n",
        "    partitions = [(X[i * partition_size:(i + 1) * partition_size], y[i * partition_size:(i + 1) * partition_size])\n",
        "                  for i in range(num_clients)]\n",
        "    return partitions\n"
      ],
      "metadata": {
        "id": "_9moWzo8A5SF"
      },
      "execution_count": 7,
      "outputs": []
    },
    {
      "cell_type": "markdown",
      "source": [
        "## Step 2: Implementing Flower Client\n",
        "Federated Learning systems consist of a server and multiple clients. In Flower, we create clients by implementing subclasses of `flwr.client.Client` or `flwr.client.NumPyClient`. We use `NumPyClient` in this tutorial because it is easier to implement.\n",
        "To implement the Flower client, we create a subclass of `flwr.client.NumPyClient` and implement the three methods `get_parameters`, `fit`, and `evaluate`:\n",
        "* `get_parameters`: Return the current local model parameters.\n",
        "* `fit`: Receive model parameters from the server, train the model parameters on the local data, and return the updated model parameters to the server.\n",
        "* `evaluate`: Receive model parameters from the server, evaluate the model parameters on the local data, and return the evaluation result to the server.\n",
        "\n",
        "Our clients will use the `scikit-learn` components for model training and evaluation. Let's see a simple Flower Client implementation that brings everything together."
      ],
      "metadata": {
        "id": "lLOd_wKsOFvm"
      }
    },
    {
      "cell_type": "code",
      "source": [
        "from collections import OrderedDict\n",
        "from typing import Dict, List, Tuple\n",
        "from sklearn.metrics import log_loss, accuracy_score, classification_report, confusion_matrix, roc_curve, roc_auc_score\n",
        "\n",
        "from flwr.common import NDArrays, Scalar, Status, Code\n",
        "\n",
        "# in the python file you want to add custom messages to the Flower log\n",
        "from logging import INFO, DEBUG\n",
        "from flwr.common.logger import log\n",
        "\n",
        "class SklearnClient(fl.client.NumPyClient):\n",
        "    def __init__(self, X_train, y_train, X_test, y_test, cid):\n",
        "      #super().__init__()\n",
        "      self.model = LogisticRegression(penalty=\"l2\", max_iter=1000, C=1.0, warm_start=True)\n",
        "      self.X_train = X_train\n",
        "      self.y_train = y_train\n",
        "      self.X_test = X_test\n",
        "      self.y_test = y_test\n",
        "      self.cid = cid\n",
        "      self.set_initial_params()\n",
        "\n",
        "    def set_initial_params(self):\n",
        "        \"\"\"Sets initial parameters as zeros Required since model params are uninitialized\n",
        "        until model.fit is called.\n",
        "        But server asks for initial parameters from clients at launch. Refer to\n",
        "        sklearn.linear_model.LogisticRegression documentation for more information.\n",
        "        \"\"\"\n",
        "        unique_classes = np.unique(self.y_train)\n",
        "        n_classes = len(unique_classes) # Iris has 3 classes, but we reduced to two classes\n",
        "        n_features = self.X_train.shape[1] # Number of features in dataset\n",
        "        self.model.classes_ = np.array([i for i in range(n_classes)])\n",
        "\n",
        "        self.model.coef_ = np.zeros((n_classes, n_features))\n",
        "        if self.model.fit_intercept:\n",
        "            self.model.intercept_ = np.zeros((n_classes,))\n",
        "\n",
        "    def get_parameters(self, config=None):\n",
        "      if not hasattr(self.model, \"coef_\"):\n",
        "        self.model.fit(self.X_train[:1], self.y_train[:1])\n",
        "\n",
        "      if self.model.fit_intercept:\n",
        "        params = [\n",
        "            self.model.coef_,\n",
        "            self.model.intercept_\n",
        "        ]\n",
        "      else:\n",
        "        params = [\n",
        "            self.model.coef_\n",
        "        ]\n",
        "      return [param.astype(np.float32) for param in params]\n",
        "\n",
        "    def set_parameters(self, parameters):\n",
        "      if self.model.fit_intercept:\n",
        "        self.model.coef_ = parameters[0]\n",
        "        self.model.intercept_ = parameters[1]\n",
        "      else:\n",
        "        self.model.coef_ = parameters[0]\n",
        "      return self.model\n",
        "\n",
        "    def fit(self, parameters, config):\n",
        "        self.set_parameters(parameters)\n",
        "        self.model.fit(self.X_train, self.y_train)\n",
        "        return self.get_parameters(), len(self.X_train), {}\n",
        "\n",
        "    def evaluate(self, parameters, config):\n",
        "        self.set_parameters(parameters)\n",
        "        y_pred = self.model.predict(self.X_test)\n",
        "        loss = 1 - accuracy_score(self.y_test, y_pred)\n",
        "        accuracy = self.model.score(self.X_test, self.y_test)\n",
        "        cid_ = self.cid\n",
        "\n",
        "        report = classification_report(self.y_test, y_pred)\n",
        "        # print(\"******* accuracy \")\n",
        "        # print(accuracy)\n",
        "        print(\"*** Classification Report ***:\")\n",
        "        print(classification_report(self.y_test, y_pred))\n",
        "\n",
        "        #message = \"Client \" + str(cid_) + \" accuracy: \" + str(accuracy)\n",
        "        #log(DEBUG, message)\n",
        "\n",
        "        return loss, len(self.X_test), {\"accuracy\": accuracy}\n"
      ],
      "metadata": {
        "id": "SufAPyiYOFgo"
      },
      "execution_count": 12,
      "outputs": []
    },
    {
      "cell_type": "markdown",
      "source": [
        "Our class `SklearnClient` defines how local training/evaluation will be performed and allows Flower to call the local training/evaluation through `fit` and `evaluate`. Each instance of `SklearnClient` represents a *single client* in our federated learning system. Federated Learning systems have multiple clients (otherwise, there is not federated), so each client will be represent by its own instance of `SklearnClient`. If we have, for example, three clients in our workload, then we'd have three instances of `SklearnClient`. Flower calls `SklearnClient.fit` on the respective instance when the server selects a particular client for training and `SklearnClient.evaluate` for evaluation."
      ],
      "metadata": {
        "collapsed": false,
        "id": "abSPagXWbvzN"
      }
    },
    {
      "cell_type": "markdown",
      "source": [
        "### Using the Virtual Client Engine\n",
        "\n",
        "In this notebook, we are simulating a federated learning system with 3 clients on a single machine. This means that the server and all 3 clients will live on a single machine and share resources as CPU, GPU, and memory. Having 3 clients would mean having 3 instances of `SklearnClient` in memory. Doing this on a single machine can quickly exhaust the available memory resources, even if only a subset of this clients participates in a single round of federated learning.\n",
        "\n",
        "In addition to the regular capabilities where server and clients run on multiple machines, Flower, therefore provides  simulation capabilities that create `SklearnClient` instances only when they are actually necessary for training or evaluation. To enable clients the Flower framework to create clients when necessary, we need to implement a function called `client_fn` that creates a `SklearnClient` instance on demand. Flower calls `client_fn` whenever it needs an instance of one particular client to call `fit` or `evaluate` (those instances are usually discarded after use, so they should not keep any local state). Clients are identified by a client ID, or short `cid`. The `cid` can be clients, as can be seen below."
      ],
      "metadata": {
        "id": "WbAryD6NOPO9"
      }
    },
    {
      "cell_type": "code",
      "source": [
        "def client_fn(cid: str) -> fl.client.Client:\n",
        "    X_train, X_test, y_train, y_test = load_data() # Load data\n",
        "    num_clients = NUM_CLIENTS  # Number of clients should match the number of partitions\n",
        "    partitions = partition_data(X_train, y_train, num_clients) # Create data partitions\n",
        "\n",
        "    partition_id = int(cid) # Associate the partition id to client id (cid)\n",
        "    # Each client gets a different X_train and y_train, so each client will train and test on their unique data\n",
        "    X_train_cid, y_train_cid = partitions[partition_id]\n",
        "\n",
        "    # Create a single Flower client representing a single organization/device\n",
        "    return SklearnClient(X_train_cid, y_train_cid, X_test, y_test, cid).to_client() #for Flower version > 1.8\n",
        "    #return SklearnClient(X_train_cid, y_train_cid, X_test, y_test, cid) #for Flower version < 1.8"
      ],
      "metadata": {
        "id": "C4_MPS4YOTcV"
      },
      "execution_count": 13,
      "outputs": []
    },
    {
      "cell_type": "markdown",
      "source": [
        "## Step 3: Define the Strategy\n",
        "\n",
        "The **strategy** encapsulates the aggregation algorithm, such as *Federated Average (FedAvg)*.\n",
        "Flower has a number of built-in strategies, but we can also use our own strategy implementations to customize nearly all aspects of the federated learning approach. For this example, we use the buiklt-in *FedAvg* implementation and customize a few basic parameters. The last step is the actual call `start_simulation` which starts the simulation."
      ],
      "metadata": {
        "id": "ed1ovJDoOX2w"
      }
    },
    {
      "cell_type": "code",
      "source": [
        "def fit_config(server_round) -> Dict:\n",
        "    \"\"\"Send round number to client.\"\"\"\n",
        "    config = {\n",
        "        \"server_round\": server_round\n",
        "    }\n",
        "    return config\n",
        "\n",
        "# Define the strategy\n",
        "strategy = fl.server.strategy.FedAvg(\n",
        "    fraction_fit=1.0,\n",
        "    fraction_evaluate=1.0,\n",
        "    min_fit_clients=1,\n",
        "    min_evaluate_clients=1,\n",
        "    min_available_clients=1,\n",
        "    on_fit_config_fn=fit_config\n",
        ")\n",
        "\n",
        "# Simulation configuration\n",
        "# Check the Flower Framework documentation for more details about Flower Simulations\n",
        "# and how to setup the client_resources\n",
        "client_resources = {\"num_cpus\": 1}\n",
        "num_clients = NUM_CLIENTS\n",
        "num_rounds = 5"
      ],
      "metadata": {
        "id": "MDH8GbikOaak"
      },
      "execution_count": 14,
      "outputs": []
    },
    {
      "cell_type": "markdown",
      "source": [
        "## Step 4: Run Simulation\n",
        "\n",
        "We now have the class `SklearnClient` which defines client side training/evaluation and `client_fn` which allows Flower to create `SklearnClient` instances whenever it needs to call `fit` or `evaluate` on one particular client. The last step is to start the actual simulation using `flwr.simulation.start_simulation`.\n",
        "The function `start_simulation` accepts a number of arguments, amongst the `client_fn` used to create `SklearnClient` instances, the number of clients to simulate (`num_clients`), the number of federated learning rounds (`num_rounds`), and the **strategy**.\n"
      ],
      "metadata": {
        "collapsed": false,
        "id": "QLPhOEYibvzO"
      }
    },
    {
      "cell_type": "code",
      "source": [
        "fl.simulation.start_simulation(\n",
        " # strategy=strategy, # the strategy that will construct a client\n",
        "  client_fn=client_fn, # a function to construct a client\n",
        "  num_clients=num_clients, # total number of clients in the experiment\n",
        "  config=fl.server.ServerConfig(num_rounds=5), #let's run for 5 rounds\n",
        "  client_resources=client_resources,\n",
        ")\n"
      ],
      "metadata": {
        "colab": {
          "base_uri": "https://localhost:8080/"
        },
        "id": "l54CPPlds0Z7",
        "outputId": "75d71f21-5575-4ea0-d586-96dfa4bf7159"
      },
      "execution_count": 15,
      "outputs": [
        {
          "output_type": "stream",
          "name": "stderr",
          "text": [
            "\u001b[93mWARNING \u001b[0m:   DEPRECATED FEATURE: flwr.simulation.start_simulation() is deprecated.\n",
            "\tInstead, use the `flwr run` CLI command to start a local simulation in your Flower app, as shown for example below:\n",
            "\n",
            "\t\t$ flwr new  # Create a new Flower app from a template\n",
            "\n",
            "\t\t$ flwr run  # Run the Flower app in Simulation Mode\n",
            "\n",
            "\tUsing `start_simulation()` is deprecated.\n",
            "\n",
            "            This is a deprecated feature. It will be removed\n",
            "            entirely in future versions of Flower.\n",
            "        \n",
            "\u001b[92mINFO \u001b[0m:      Starting Flower simulation, config: num_rounds=5, no round_timeout\n",
            "2025-03-28 11:20:34,134\tINFO worker.py:1771 -- Started a local Ray instance.\n",
            "\u001b[92mINFO \u001b[0m:      Flower VCE: Ray initialized with resources: {'CPU': 2.0, 'node:__internal_head__': 1.0, 'node:172.28.0.12': 1.0, 'memory': 7995521435.0, 'object_store_memory': 3997760716.0}\n",
            "\u001b[92mINFO \u001b[0m:      Optimize your simulation with Flower VCE: https://flower.ai/docs/framework/how-to-run-simulations.html\n",
            "\u001b[92mINFO \u001b[0m:      Flower VCE: Resources for each Virtual Client: {'num_cpus': 1}\n",
            "\u001b[92mINFO \u001b[0m:      Flower VCE: Creating VirtualClientEngineActorPool with 2 actors\n",
            "\u001b[92mINFO \u001b[0m:      [INIT]\n",
            "\u001b[92mINFO \u001b[0m:      Requesting initial parameters from one random client\n",
            "\u001b[36m(pid=6479)\u001b[0m 2025-03-28 11:20:39.699293: E external/local_xla/xla/stream_executor/cuda/cuda_fft.cc:477] Unable to register cuFFT factory: Attempting to register factory for plugin cuFFT when one has already been registered\n",
            "\u001b[36m(pid=6480)\u001b[0m WARNING: All log messages before absl::InitializeLog() is called are written to STDERR\n",
            "\u001b[36m(pid=6480)\u001b[0m E0000 00:00:1743160839.816248    6480 cuda_dnn.cc:8310] Unable to register cuDNN factory: Attempting to register factory for plugin cuDNN when one has already been registered\n",
            "\u001b[36m(pid=6480)\u001b[0m E0000 00:00:1743160839.828146    6480 cuda_blas.cc:1418] Unable to register cuBLAS factory: Attempting to register factory for plugin cuBLAS when one has already been registered\n",
            "\u001b[92mINFO \u001b[0m:      Received initial parameters from one random client\n",
            "\u001b[92mINFO \u001b[0m:      Starting evaluation of initial global parameters\n",
            "\u001b[92mINFO \u001b[0m:      Evaluation returned no results (`None`)\n",
            "\u001b[92mINFO \u001b[0m:      \n",
            "\u001b[92mINFO \u001b[0m:      [ROUND 1]\n",
            "\u001b[92mINFO \u001b[0m:      configure_fit: strategy sampled 3 clients (out of 3)\n",
            "\u001b[36m(ClientAppActor pid=6480)\u001b[0m \u001b[93mWARNING \u001b[0m:   DEPRECATED FEATURE: `client_fn` now expects a signature `def client_fn(context: Context)`.The provided `client_fn` has signature: {'cid': <Parameter \"cid: str\">}. You can import the `Context` like this: `from flwr.common import Context`\n",
            "\u001b[36m(ClientAppActor pid=6480)\u001b[0m \n",
            "\u001b[36m(ClientAppActor pid=6480)\u001b[0m             This is a deprecated feature. It will be removed\n",
            "\u001b[36m(ClientAppActor pid=6480)\u001b[0m             entirely in future versions of Flower.\n",
            "\u001b[36m(ClientAppActor pid=6480)\u001b[0m         \n",
            "\u001b[36m(ClientAppActor pid=6480)\u001b[0m \u001b[93mWARNING \u001b[0m:   DEPRECATED FEATURE: `client_fn` now expects a signature `def client_fn(context: Context)`.The provided `client_fn` has signature: {'cid': <Parameter \"cid: str\">}. You can import the `Context` like this: `from flwr.common import Context`\n",
            "\u001b[36m(ClientAppActor pid=6480)\u001b[0m \n",
            "\u001b[36m(ClientAppActor pid=6480)\u001b[0m             This is a deprecated feature. It will be removed\n",
            "\u001b[36m(ClientAppActor pid=6480)\u001b[0m             entirely in future versions of Flower.\n",
            "\u001b[36m(ClientAppActor pid=6480)\u001b[0m         \n",
            "\u001b[36m(pid=6480)\u001b[0m 2025-03-28 11:20:39.776547: E external/local_xla/xla/stream_executor/cuda/cuda_fft.cc:477] Unable to register cuFFT factory: Attempting to register factory for plugin cuFFT when one has already been registered\n",
            "\u001b[36m(pid=6479)\u001b[0m WARNING: All log messages before absl::InitializeLog() is called are written to STDERR\n",
            "\u001b[36m(pid=6479)\u001b[0m E0000 00:00:1743160839.740531    6479 cuda_dnn.cc:8310] Unable to register cuDNN factory: Attempting to register factory for plugin cuDNN when one has already been registered\n",
            "\u001b[36m(pid=6479)\u001b[0m E0000 00:00:1743160839.755689    6479 cuda_blas.cc:1418] Unable to register cuBLAS factory: Attempting to register factory for plugin cuBLAS when one has already been registered\n",
            "\u001b[36m(ClientAppActor pid=6480)\u001b[0m \u001b[93mWARNING \u001b[0m:   DEPRECATED FEATURE: `client_fn` now expects a signature `def client_fn(context: Context)`.The provided `client_fn` has signature: {'cid': <Parameter \"cid: str\">}. You can import the `Context` like this: `from flwr.common import Context`\n",
            "\u001b[36m(ClientAppActor pid=6480)\u001b[0m \n",
            "\u001b[36m(ClientAppActor pid=6480)\u001b[0m             This is a deprecated feature. It will be removed\n",
            "\u001b[36m(ClientAppActor pid=6480)\u001b[0m             entirely in future versions of Flower.\n",
            "\u001b[36m(ClientAppActor pid=6480)\u001b[0m         \n",
            "\u001b[92mINFO \u001b[0m:      aggregate_fit: received 3 results and 0 failures\n",
            "\u001b[93mWARNING \u001b[0m:   No fit_metrics_aggregation_fn provided\n",
            "\u001b[92mINFO \u001b[0m:      configure_evaluate: strategy sampled 3 clients (out of 3)\n",
            "\u001b[36m(ClientAppActor pid=6480)\u001b[0m \u001b[93mWARNING \u001b[0m:   DEPRECATED FEATURE: `client_fn` now expects a signature `def client_fn(context: Context)`.The provided `client_fn` has signature: {'cid': <Parameter \"cid: str\">}. You can import the `Context` like this: `from flwr.common import Context`\n",
            "\u001b[36m(ClientAppActor pid=6480)\u001b[0m \n",
            "\u001b[36m(ClientAppActor pid=6480)\u001b[0m             This is a deprecated feature. It will be removed\n",
            "\u001b[36m(ClientAppActor pid=6480)\u001b[0m             entirely in future versions of Flower.\n",
            "\u001b[36m(ClientAppActor pid=6480)\u001b[0m         \n",
            "\u001b[36m(ClientAppActor pid=6479)\u001b[0m \n",
            "\u001b[36m(ClientAppActor pid=6479)\u001b[0m         \n",
            "\u001b[36m(ClientAppActor pid=6479)\u001b[0m \n",
            "\u001b[36m(ClientAppActor pid=6479)\u001b[0m         \n",
            "\u001b[92mINFO \u001b[0m:      aggregate_evaluate: received 3 results and 0 failures\n",
            "\u001b[93mWARNING \u001b[0m:   No evaluate_metrics_aggregation_fn provided\n",
            "\u001b[92mINFO \u001b[0m:      \n",
            "\u001b[92mINFO \u001b[0m:      [ROUND 2]\n",
            "\u001b[92mINFO \u001b[0m:      configure_fit: strategy sampled 3 clients (out of 3)\n",
            "\u001b[92mINFO \u001b[0m:      aggregate_fit: received 3 results and 0 failures\n",
            "\u001b[92mINFO \u001b[0m:      configure_evaluate: strategy sampled 3 clients (out of 3)\n",
            "\u001b[36m(ClientAppActor pid=6480)\u001b[0m \n",
            "\u001b[36m(ClientAppActor pid=6480)\u001b[0m         \n",
            "\u001b[36m(ClientAppActor pid=6479)\u001b[0m \n",
            "\u001b[36m(ClientAppActor pid=6479)\u001b[0m         \n",
            "\u001b[36m(ClientAppActor pid=6479)\u001b[0m \n",
            "\u001b[36m(ClientAppActor pid=6479)\u001b[0m         \n",
            "\u001b[36m(ClientAppActor pid=6479)\u001b[0m \n",
            "\u001b[36m(ClientAppActor pid=6479)\u001b[0m         \n",
            "\u001b[92mINFO \u001b[0m:      aggregate_evaluate: received 3 results and 0 failures\n",
            "\u001b[92mINFO \u001b[0m:      \n",
            "\u001b[92mINFO \u001b[0m:      [ROUND 3]\n",
            "\u001b[92mINFO \u001b[0m:      configure_fit: strategy sampled 3 clients (out of 3)\n",
            "\u001b[36m(ClientAppActor pid=6480)\u001b[0m \n",
            "\u001b[36m(ClientAppActor pid=6480)\u001b[0m         \n",
            "\u001b[36m(ClientAppActor pid=6480)\u001b[0m \n",
            "\u001b[36m(ClientAppActor pid=6480)\u001b[0m         \n",
            "\u001b[36m(ClientAppActor pid=6480)\u001b[0m \n",
            "\u001b[36m(ClientAppActor pid=6480)\u001b[0m         \n",
            "\u001b[36m(ClientAppActor pid=6479)\u001b[0m \n",
            "\u001b[36m(ClientAppActor pid=6479)\u001b[0m         \n",
            "\u001b[36m(ClientAppActor pid=6479)\u001b[0m \n",
            "\u001b[36m(ClientAppActor pid=6479)\u001b[0m         \n",
            "\u001b[92mINFO \u001b[0m:      aggregate_fit: received 3 results and 0 failures\n",
            "\u001b[92mINFO \u001b[0m:      configure_evaluate: strategy sampled 3 clients (out of 3)\n"
          ]
        },
        {
          "output_type": "stream",
          "name": "stdout",
          "text": [
            "\u001b[36m(ClientAppActor pid=6479)\u001b[0m *** Classification Report ***:\n",
            "\u001b[36m(ClientAppActor pid=6479)\u001b[0m               precision    recall  f1-score   support\n",
            "\u001b[36m(ClientAppActor pid=6479)\u001b[0m \n",
            "\u001b[36m(ClientAppActor pid=6479)\u001b[0m            0       1.00      1.00      1.00        12\n",
            "\u001b[36m(ClientAppActor pid=6479)\u001b[0m            1       1.00      1.00      1.00         8\n",
            "\u001b[36m(ClientAppActor pid=6479)\u001b[0m \n",
            "\u001b[36m(ClientAppActor pid=6479)\u001b[0m     accuracy                           1.00        20\n",
            "\u001b[36m(ClientAppActor pid=6479)\u001b[0m    macro avg       1.00      1.00      1.00        20\n",
            "\u001b[36m(ClientAppActor pid=6479)\u001b[0m weighted avg       1.00      1.00      1.00        20\n",
            "\u001b[36m(ClientAppActor pid=6479)\u001b[0m \n",
            "\u001b[36m(ClientAppActor pid=6479)\u001b[0m *** Classification Report ***:\n",
            "\u001b[36m(ClientAppActor pid=6479)\u001b[0m               precision    recall  f1-score   support\n",
            "\u001b[36m(ClientAppActor pid=6479)\u001b[0m \n",
            "\u001b[36m(ClientAppActor pid=6479)\u001b[0m            0       1.00      1.00      1.00        12\n",
            "\u001b[36m(ClientAppActor pid=6479)\u001b[0m            1       1.00      1.00      1.00         8\n",
            "\u001b[36m(ClientAppActor pid=6479)\u001b[0m \n",
            "\u001b[36m(ClientAppActor pid=6479)\u001b[0m     accuracy                           1.00        20\n",
            "\u001b[36m(ClientAppActor pid=6479)\u001b[0m    macro avg       1.00      1.00      1.00        20\n",
            "\u001b[36m(ClientAppActor pid=6479)\u001b[0m weighted avg       1.00      1.00      1.00        20\n",
            "\u001b[36m(ClientAppActor pid=6479)\u001b[0m \n",
            "\u001b[36m(ClientAppActor pid=6480)\u001b[0m \n",
            "\u001b[36m(ClientAppActor pid=6480)\u001b[0m            0       1.00      1.00      1.00        12\n",
            "\u001b[36m(ClientAppActor pid=6480)\u001b[0m            1       1.00      1.00      1.00         8\n",
            "\u001b[36m(ClientAppActor pid=6480)\u001b[0m \n",
            "\u001b[36m(ClientAppActor pid=6480)\u001b[0m \n",
            "\u001b[36m(ClientAppActor pid=6479)\u001b[0m \n",
            "\u001b[36m(ClientAppActor pid=6479)\u001b[0m            0       1.00      1.00      1.00        12\n",
            "\u001b[36m(ClientAppActor pid=6479)\u001b[0m            1       1.00      1.00      1.00         8\n",
            "\u001b[36m(ClientAppActor pid=6479)\u001b[0m \n",
            "\u001b[36m(ClientAppActor pid=6479)\u001b[0m \n",
            "\u001b[36m(ClientAppActor pid=6480)\u001b[0m \n",
            "\u001b[36m(ClientAppActor pid=6480)\u001b[0m            0       1.00      1.00      1.00        12\n",
            "\u001b[36m(ClientAppActor pid=6480)\u001b[0m            1       1.00      1.00      1.00         8\n",
            "\u001b[36m(ClientAppActor pid=6480)\u001b[0m \n",
            "\u001b[36m(ClientAppActor pid=6480)\u001b[0m \n",
            "\u001b[36m(ClientAppActor pid=6480)\u001b[0m \n",
            "\u001b[36m(ClientAppActor pid=6480)\u001b[0m            0       1.00      1.00      1.00        12\n",
            "\u001b[36m(ClientAppActor pid=6480)\u001b[0m            1       1.00      1.00      1.00         8\n",
            "\u001b[36m(ClientAppActor pid=6480)\u001b[0m \n",
            "\u001b[36m(ClientAppActor pid=6480)\u001b[0m \n"
          ]
        },
        {
          "output_type": "stream",
          "name": "stderr",
          "text": [
            "\u001b[36m(ClientAppActor pid=6480)\u001b[0m \n",
            "\u001b[36m(ClientAppActor pid=6480)\u001b[0m         \n",
            "\u001b[36m(ClientAppActor pid=6479)\u001b[0m \n",
            "\u001b[36m(ClientAppActor pid=6479)\u001b[0m         \n",
            "\u001b[36m(ClientAppActor pid=6479)\u001b[0m \n",
            "\u001b[36m(ClientAppActor pid=6479)\u001b[0m         \n",
            "\u001b[36m(ClientAppActor pid=6479)\u001b[0m \n",
            "\u001b[36m(ClientAppActor pid=6479)\u001b[0m         \n",
            "\u001b[92mINFO \u001b[0m:      aggregate_evaluate: received 3 results and 0 failures\n",
            "\u001b[92mINFO \u001b[0m:      \n",
            "\u001b[92mINFO \u001b[0m:      [ROUND 4]\n",
            "\u001b[92mINFO \u001b[0m:      configure_fit: strategy sampled 3 clients (out of 3)\n",
            "\u001b[92mINFO \u001b[0m:      aggregate_fit: received 3 results and 0 failures\n",
            "\u001b[92mINFO \u001b[0m:      configure_evaluate: strategy sampled 3 clients (out of 3)\n",
            "\u001b[36m(ClientAppActor pid=6480)\u001b[0m \n",
            "\u001b[36m(ClientAppActor pid=6480)\u001b[0m         \n",
            "\u001b[36m(ClientAppActor pid=6480)\u001b[0m \n",
            "\u001b[36m(ClientAppActor pid=6480)\u001b[0m         \n",
            "\u001b[36m(ClientAppActor pid=6480)\u001b[0m \n",
            "\u001b[36m(ClientAppActor pid=6480)\u001b[0m         \n",
            "\u001b[36m(ClientAppActor pid=6479)\u001b[0m \n",
            "\u001b[36m(ClientAppActor pid=6479)\u001b[0m         \n",
            "\u001b[36m(ClientAppActor pid=6479)\u001b[0m \n",
            "\u001b[36m(ClientAppActor pid=6479)\u001b[0m         \n",
            "\u001b[36m(ClientAppActor pid=6480)\u001b[0m \n",
            "\u001b[36m(ClientAppActor pid=6480)\u001b[0m         \n",
            "\u001b[92mINFO \u001b[0m:      aggregate_evaluate: received 3 results and 0 failures\n",
            "\u001b[92mINFO \u001b[0m:      \n",
            "\u001b[92mINFO \u001b[0m:      [ROUND 5]\n",
            "\u001b[92mINFO \u001b[0m:      configure_fit: strategy sampled 3 clients (out of 3)\n",
            "\u001b[92mINFO \u001b[0m:      aggregate_fit: received 3 results and 0 failures\n",
            "\u001b[92mINFO \u001b[0m:      configure_evaluate: strategy sampled 3 clients (out of 3)\n"
          ]
        },
        {
          "output_type": "stream",
          "name": "stdout",
          "text": [
            "\u001b[36m(ClientAppActor pid=6479)\u001b[0m \n",
            "\u001b[36m(ClientAppActor pid=6479)\u001b[0m            0       1.00      1.00      1.00        12\n",
            "\u001b[36m(ClientAppActor pid=6479)\u001b[0m            1       1.00      1.00      1.00         8\n",
            "\u001b[36m(ClientAppActor pid=6479)\u001b[0m \n",
            "\u001b[36m(ClientAppActor pid=6479)\u001b[0m \n",
            "\u001b[36m(ClientAppActor pid=6480)\u001b[0m \n",
            "\u001b[36m(ClientAppActor pid=6480)\u001b[0m            0       1.00      1.00      1.00        12\n",
            "\u001b[36m(ClientAppActor pid=6480)\u001b[0m            1       1.00      1.00      1.00         8\n",
            "\u001b[36m(ClientAppActor pid=6480)\u001b[0m \n",
            "\u001b[36m(ClientAppActor pid=6480)\u001b[0m \n",
            "\u001b[36m(ClientAppActor pid=6479)\u001b[0m \n",
            "\u001b[36m(ClientAppActor pid=6479)\u001b[0m            0       1.00      1.00      1.00        12\n",
            "\u001b[36m(ClientAppActor pid=6479)\u001b[0m            1       1.00      1.00      1.00         8\n",
            "\u001b[36m(ClientAppActor pid=6479)\u001b[0m \n",
            "\u001b[36m(ClientAppActor pid=6479)\u001b[0m \n",
            "\u001b[36m(ClientAppActor pid=6480)\u001b[0m \n",
            "\u001b[36m(ClientAppActor pid=6480)\u001b[0m            0       1.00      1.00      1.00        12\n",
            "\u001b[36m(ClientAppActor pid=6480)\u001b[0m            1       1.00      1.00      1.00         8\n",
            "\u001b[36m(ClientAppActor pid=6480)\u001b[0m \n",
            "\u001b[36m(ClientAppActor pid=6480)\u001b[0m \n",
            "\u001b[36m(ClientAppActor pid=6479)\u001b[0m \n",
            "\u001b[36m(ClientAppActor pid=6479)\u001b[0m            0       1.00      1.00      1.00        12\n",
            "\u001b[36m(ClientAppActor pid=6479)\u001b[0m            1       1.00      1.00      1.00         8\n",
            "\u001b[36m(ClientAppActor pid=6479)\u001b[0m \n",
            "\u001b[36m(ClientAppActor pid=6479)\u001b[0m \n"
          ]
        },
        {
          "output_type": "stream",
          "name": "stderr",
          "text": [
            "\u001b[36m(ClientAppActor pid=6480)\u001b[0m \n",
            "\u001b[36m(ClientAppActor pid=6480)\u001b[0m         \n",
            "\u001b[36m(ClientAppActor pid=6480)\u001b[0m \n",
            "\u001b[36m(ClientAppActor pid=6480)\u001b[0m         \n",
            "\u001b[36m(ClientAppActor pid=6480)\u001b[0m \n",
            "\u001b[36m(ClientAppActor pid=6480)\u001b[0m         \n",
            "\u001b[36m(ClientAppActor pid=6479)\u001b[0m \n",
            "\u001b[36m(ClientAppActor pid=6479)\u001b[0m         \n",
            "\u001b[36m(ClientAppActor pid=6479)\u001b[0m \n",
            "\u001b[36m(ClientAppActor pid=6479)\u001b[0m         \n",
            "\u001b[92mINFO \u001b[0m:      aggregate_evaluate: received 3 results and 0 failures\n",
            "\u001b[92mINFO \u001b[0m:      \n",
            "\u001b[92mINFO \u001b[0m:      [SUMMARY]\n",
            "\u001b[92mINFO \u001b[0m:      Run finished 5 round(s) in 0.84s\n",
            "\u001b[92mINFO \u001b[0m:      \tHistory (loss, distributed):\n",
            "\u001b[92mINFO \u001b[0m:      \t\tround 1: 0.0\n",
            "\u001b[92mINFO \u001b[0m:      \t\tround 2: 0.0\n",
            "\u001b[92mINFO \u001b[0m:      \t\tround 3: 0.0\n",
            "\u001b[92mINFO \u001b[0m:      \t\tround 4: 0.0\n",
            "\u001b[92mINFO \u001b[0m:      \t\tround 5: 0.0\n",
            "\u001b[92mINFO \u001b[0m:      \n"
          ]
        },
        {
          "output_type": "stream",
          "name": "stdout",
          "text": [
            "\u001b[36m(ClientAppActor pid=6480)\u001b[0m \n",
            "\u001b[36m(ClientAppActor pid=6480)\u001b[0m            0       1.00      1.00      1.00        12\n",
            "\u001b[36m(ClientAppActor pid=6480)\u001b[0m            1       1.00      1.00      1.00         8\n",
            "\u001b[36m(ClientAppActor pid=6480)\u001b[0m \n",
            "\u001b[36m(ClientAppActor pid=6480)\u001b[0m \n"
          ]
        },
        {
          "output_type": "execute_result",
          "data": {
            "text/plain": [
              "History (loss, distributed):\n",
              "\tround 1: 0.0\n",
              "\tround 2: 0.0\n",
              "\tround 3: 0.0\n",
              "\tround 4: 0.0\n",
              "\tround 5: 0.0"
            ]
          },
          "metadata": {},
          "execution_count": 15
        }
      ]
    },
    {
      "cell_type": "markdown",
      "source": [
        "So how does this work? How does Flower execute this simulation?\n",
        "When we call `start_simulation`, we tell Flower that there are 3 clients (`num_clients = 3`). Flower then goes ahead an asks the `FedAvg` strategy to select clients. `FedAvg` knows that it should select 100% of the available clients (`fraction_fit = 1.0`), so it goes ahead and selects 3 randon clients (i.e., 100% of 3).\n",
        "Flower then asks the selected 3 clients to train the model. When the server receives the model parameter updates from the clients, it hands those updates over the *strategy* (FedAvg) for aggregation. The *strategy* aggregates those updates and returns the new global model, which then gets used in the next round of federated learning."
      ],
      "metadata": {
        "collapsed": false,
        "id": "Y0EI11uPbvzP"
      }
    },
    {
      "cell_type": "markdown",
      "source": [
        "### Where is the accuracy?\n",
        "\n",
        "You may have noticed that all metrics except for `losses_distributed` are empty. Where did the `{\"accuracy: float(accuracy)\"}` go?\n",
        "Flower can automatically aggregate losses returned by individual clients, but it cannot do the same for metrics in the generic metrics dictionary. Metrics dictionary can contain very different kinds of metrics and even key/value pairs that are not metrics, so the framework does not know how to handle these automatically.\n",
        "As users, we need to tell the framework how to handle/aggregate these custom metrics, and we do so by passing metric aggregation functions to the strategy. The strategy will then call these functions whenever it receives fit or evaluate metrics from clients. The two possible functions are `fit_metrics_aggregation_fn` and `evaluate_metrics_aggregation_fn`.\n",
        "Let's create a simple weighted averaging function to aggregate the accuracy metric we return from evaluate:"
      ],
      "metadata": {
        "collapsed": false,
        "id": "IbiwDEDnbvzP"
      }
    },
    {
      "cell_type": "code",
      "execution_count": 16,
      "outputs": [],
      "source": [
        "def weighted_average(metrics: List[Tuple[int, Metrics]]) -> Metrics:\n",
        "    # Multiply accuracy of each client by number of examples used\n",
        "    accuracies = [num_examples * m['accuracy'] for num_examples, m in metrics]\n",
        "    examples = [num_examples for num_examples, _ in metrics]\n",
        "\n",
        "    # Aggregate and return custom metric (weighted average)\n",
        "    return {\"accuracy\": sum(accuracies) / sum(examples)}"
      ],
      "metadata": {
        "id": "0GsymKcnbvzQ"
      }
    },
    {
      "cell_type": "markdown",
      "source": [
        "The only thing left to do is to tell the strategy to call this function whenever it receives evaluation metric dictionaries from the clients:"
      ],
      "metadata": {
        "collapsed": false,
        "id": "Cw163-CFbvzQ"
      }
    },
    {
      "cell_type": "code",
      "execution_count": 17,
      "outputs": [
        {
          "output_type": "stream",
          "name": "stderr",
          "text": [
            "\u001b[93mWARNING \u001b[0m:   DEPRECATED FEATURE: flwr.simulation.start_simulation() is deprecated.\n",
            "\tInstead, use the `flwr run` CLI command to start a local simulation in your Flower app, as shown for example below:\n",
            "\n",
            "\t\t$ flwr new  # Create a new Flower app from a template\n",
            "\n",
            "\t\t$ flwr run  # Run the Flower app in Simulation Mode\n",
            "\n",
            "\tUsing `start_simulation()` is deprecated.\n",
            "\n",
            "            This is a deprecated feature. It will be removed\n",
            "            entirely in future versions of Flower.\n",
            "        \n",
            "\u001b[92mINFO \u001b[0m:      Starting Flower simulation, config: num_rounds=5, no round_timeout\n",
            "2025-03-28 11:21:19,694\tINFO worker.py:1771 -- Started a local Ray instance.\n",
            "\u001b[92mINFO \u001b[0m:      Flower VCE: Ray initialized with resources: {'CPU': 2.0, 'memory': 7994344244.0, 'node:172.28.0.12': 1.0, 'node:__internal_head__': 1.0, 'object_store_memory': 3997172121.0}\n",
            "\u001b[92mINFO \u001b[0m:      Optimize your simulation with Flower VCE: https://flower.ai/docs/framework/how-to-run-simulations.html\n",
            "\u001b[92mINFO \u001b[0m:      Flower VCE: Resources for each Virtual Client: {'num_cpus': 1}\n",
            "\u001b[92mINFO \u001b[0m:      Flower VCE: Creating VirtualClientEngineActorPool with 2 actors\n",
            "\u001b[92mINFO \u001b[0m:      [INIT]\n",
            "\u001b[92mINFO \u001b[0m:      Requesting initial parameters from one random client\n",
            "\u001b[36m(pid=6948)\u001b[0m 2025-03-28 11:21:23.582132: E external/local_xla/xla/stream_executor/cuda/cuda_fft.cc:477] Unable to register cuFFT factory: Attempting to register factory for plugin cuFFT when one has already been registered\n",
            "\u001b[36m(pid=6948)\u001b[0m WARNING: All log messages before absl::InitializeLog() is called are written to STDERR\n",
            "\u001b[36m(pid=6948)\u001b[0m E0000 00:00:1743160883.624284    6948 cuda_dnn.cc:8310] Unable to register cuDNN factory: Attempting to register factory for plugin cuDNN when one has already been registered\n",
            "\u001b[36m(pid=6948)\u001b[0m E0000 00:00:1743160883.636866    6948 cuda_blas.cc:1418] Unable to register cuBLAS factory: Attempting to register factory for plugin cuBLAS when one has already been registered\n",
            "\u001b[92mINFO \u001b[0m:      Received initial parameters from one random client\n",
            "\u001b[92mINFO \u001b[0m:      Starting evaluation of initial global parameters\n",
            "\u001b[92mINFO \u001b[0m:      Evaluation returned no results (`None`)\n",
            "\u001b[92mINFO \u001b[0m:      \n",
            "\u001b[92mINFO \u001b[0m:      [ROUND 1]\n",
            "\u001b[92mINFO \u001b[0m:      configure_fit: strategy sampled 3 clients (out of 3)\n",
            "\u001b[36m(ClientAppActor pid=6949)\u001b[0m \u001b[93mWARNING \u001b[0m:   DEPRECATED FEATURE: `client_fn` now expects a signature `def client_fn(context: Context)`.The provided `client_fn` has signature: {'cid': <Parameter \"cid: str\">}. You can import the `Context` like this: `from flwr.common import Context`\n",
            "\u001b[36m(ClientAppActor pid=6949)\u001b[0m \n",
            "\u001b[36m(ClientAppActor pid=6949)\u001b[0m             This is a deprecated feature. It will be removed\n",
            "\u001b[36m(ClientAppActor pid=6949)\u001b[0m             entirely in future versions of Flower.\n",
            "\u001b[36m(ClientAppActor pid=6949)\u001b[0m         \n",
            "\u001b[36m(ClientAppActor pid=6949)\u001b[0m \u001b[93mWARNING \u001b[0m:   DEPRECATED FEATURE: `client_fn` now expects a signature `def client_fn(context: Context)`.The provided `client_fn` has signature: {'cid': <Parameter \"cid: str\">}. You can import the `Context` like this: `from flwr.common import Context`\n",
            "\u001b[36m(ClientAppActor pid=6949)\u001b[0m \n",
            "\u001b[36m(ClientAppActor pid=6949)\u001b[0m             This is a deprecated feature. It will be removed\n",
            "\u001b[36m(ClientAppActor pid=6949)\u001b[0m             entirely in future versions of Flower.\n",
            "\u001b[36m(ClientAppActor pid=6949)\u001b[0m         \n",
            "\u001b[36m(ClientAppActor pid=6949)\u001b[0m \u001b[93mWARNING \u001b[0m:   DEPRECATED FEATURE: `client_fn` now expects a signature `def client_fn(context: Context)`.The provided `client_fn` has signature: {'cid': <Parameter \"cid: str\">}. You can import the `Context` like this: `from flwr.common import Context`\n",
            "\u001b[36m(ClientAppActor pid=6949)\u001b[0m \n",
            "\u001b[36m(ClientAppActor pid=6949)\u001b[0m             This is a deprecated feature. It will be removed\n",
            "\u001b[36m(ClientAppActor pid=6949)\u001b[0m             entirely in future versions of Flower.\n",
            "\u001b[36m(ClientAppActor pid=6949)\u001b[0m         \n",
            "\u001b[36m(pid=6949)\u001b[0m 2025-03-28 11:21:23.609431: E external/local_xla/xla/stream_executor/cuda/cuda_fft.cc:477] Unable to register cuFFT factory: Attempting to register factory for plugin cuFFT when one has already been registered\n",
            "\u001b[36m(pid=6949)\u001b[0m WARNING: All log messages before absl::InitializeLog() is called are written to STDERR\n",
            "\u001b[36m(pid=6949)\u001b[0m E0000 00:00:1743160883.650339    6949 cuda_dnn.cc:8310] Unable to register cuDNN factory: Attempting to register factory for plugin cuDNN when one has already been registered\n",
            "\u001b[36m(pid=6949)\u001b[0m E0000 00:00:1743160883.662845    6949 cuda_blas.cc:1418] Unable to register cuBLAS factory: Attempting to register factory for plugin cuBLAS when one has already been registered\n",
            "\u001b[92mINFO \u001b[0m:      aggregate_fit: received 3 results and 0 failures\n",
            "\u001b[93mWARNING \u001b[0m:   No fit_metrics_aggregation_fn provided\n",
            "\u001b[92mINFO \u001b[0m:      configure_evaluate: strategy sampled 3 clients (out of 3)\n",
            "\u001b[92mINFO \u001b[0m:      aggregate_evaluate: received 3 results and 0 failures\n",
            "\u001b[92mINFO \u001b[0m:      \n",
            "\u001b[92mINFO \u001b[0m:      [ROUND 2]\n",
            "\u001b[92mINFO \u001b[0m:      configure_fit: strategy sampled 3 clients (out of 3)\n",
            "\u001b[36m(ClientAppActor pid=6948)\u001b[0m \n",
            "\u001b[36m(ClientAppActor pid=6948)\u001b[0m         \n",
            "\u001b[36m(ClientAppActor pid=6948)\u001b[0m \n",
            "\u001b[36m(ClientAppActor pid=6948)\u001b[0m         \n",
            "\u001b[36m(ClientAppActor pid=6948)\u001b[0m \n",
            "\u001b[36m(ClientAppActor pid=6948)\u001b[0m         \n",
            "\u001b[36m(ClientAppActor pid=6949)\u001b[0m \n",
            "\u001b[36m(ClientAppActor pid=6949)\u001b[0m         \n",
            "\u001b[92mINFO \u001b[0m:      aggregate_fit: received 3 results and 0 failures\n",
            "\u001b[92mINFO \u001b[0m:      configure_evaluate: strategy sampled 3 clients (out of 3)\n",
            "\u001b[36m(ClientAppActor pid=6948)\u001b[0m \n",
            "\u001b[36m(ClientAppActor pid=6948)\u001b[0m         \n",
            "\u001b[36m(ClientAppActor pid=6948)\u001b[0m \n",
            "\u001b[36m(ClientAppActor pid=6948)\u001b[0m         \n",
            "\u001b[36m(ClientAppActor pid=6948)\u001b[0m \n",
            "\u001b[36m(ClientAppActor pid=6948)\u001b[0m         \n",
            "\u001b[36m(ClientAppActor pid=6948)\u001b[0m \n",
            "\u001b[36m(ClientAppActor pid=6948)\u001b[0m         \n",
            "\u001b[36m(ClientAppActor pid=6949)\u001b[0m \n",
            "\u001b[36m(ClientAppActor pid=6949)\u001b[0m         \n",
            "\u001b[36m(ClientAppActor pid=6949)\u001b[0m \n",
            "\u001b[36m(ClientAppActor pid=6949)\u001b[0m         \n",
            "\u001b[92mINFO \u001b[0m:      aggregate_evaluate: received 3 results and 0 failures\n",
            "\u001b[92mINFO \u001b[0m:      \n",
            "\u001b[92mINFO \u001b[0m:      [ROUND 3]\n",
            "\u001b[92mINFO \u001b[0m:      configure_fit: strategy sampled 3 clients (out of 3)\n",
            "\u001b[92mINFO \u001b[0m:      aggregate_fit: received 3 results and 0 failures\n",
            "\u001b[92mINFO \u001b[0m:      configure_evaluate: strategy sampled 3 clients (out of 3)\n"
          ]
        },
        {
          "output_type": "stream",
          "name": "stdout",
          "text": [
            "\u001b[36m(ClientAppActor pid=6949)\u001b[0m *** Classification Report ***:\n",
            "\u001b[36m(ClientAppActor pid=6949)\u001b[0m               precision    recall  f1-score   support\n",
            "\u001b[36m(ClientAppActor pid=6949)\u001b[0m \n",
            "\u001b[36m(ClientAppActor pid=6949)\u001b[0m            0       1.00      1.00      1.00        12\n",
            "\u001b[36m(ClientAppActor pid=6949)\u001b[0m            1       1.00      1.00      1.00         8\n",
            "\u001b[36m(ClientAppActor pid=6949)\u001b[0m \n",
            "\u001b[36m(ClientAppActor pid=6949)\u001b[0m     accuracy                           1.00        20\n",
            "\u001b[36m(ClientAppActor pid=6949)\u001b[0m    macro avg       1.00      1.00      1.00        20\n",
            "\u001b[36m(ClientAppActor pid=6949)\u001b[0m weighted avg       1.00      1.00      1.00        20\n",
            "\u001b[36m(ClientAppActor pid=6949)\u001b[0m \n",
            "\u001b[36m(ClientAppActor pid=6948)\u001b[0m \n",
            "\u001b[36m(ClientAppActor pid=6948)\u001b[0m            0       1.00      1.00      1.00        12\n",
            "\u001b[36m(ClientAppActor pid=6948)\u001b[0m            1       1.00      1.00      1.00         8\n",
            "\u001b[36m(ClientAppActor pid=6948)\u001b[0m \n",
            "\u001b[36m(ClientAppActor pid=6948)\u001b[0m \n",
            "\u001b[36m(ClientAppActor pid=6948)\u001b[0m \n",
            "\u001b[36m(ClientAppActor pid=6948)\u001b[0m            0       1.00      1.00      1.00        12\n",
            "\u001b[36m(ClientAppActor pid=6948)\u001b[0m            1       1.00      1.00      1.00         8\n",
            "\u001b[36m(ClientAppActor pid=6948)\u001b[0m \n",
            "\u001b[36m(ClientAppActor pid=6948)\u001b[0m \n",
            "\u001b[36m(ClientAppActor pid=6949)\u001b[0m \n",
            "\u001b[36m(ClientAppActor pid=6949)\u001b[0m            0       1.00      1.00      1.00        12\n",
            "\u001b[36m(ClientAppActor pid=6949)\u001b[0m            1       1.00      1.00      1.00         8\n",
            "\u001b[36m(ClientAppActor pid=6949)\u001b[0m \n",
            "\u001b[36m(ClientAppActor pid=6949)\u001b[0m \n",
            "\u001b[36m(ClientAppActor pid=6948)\u001b[0m \n",
            "\u001b[36m(ClientAppActor pid=6948)\u001b[0m            0       1.00      1.00      1.00        12\n",
            "\u001b[36m(ClientAppActor pid=6948)\u001b[0m            1       1.00      1.00      1.00         8\n",
            "\u001b[36m(ClientAppActor pid=6948)\u001b[0m \n",
            "\u001b[36m(ClientAppActor pid=6948)\u001b[0m \n"
          ]
        },
        {
          "output_type": "stream",
          "name": "stderr",
          "text": [
            "\u001b[36m(ClientAppActor pid=6948)\u001b[0m \n",
            "\u001b[36m(ClientAppActor pid=6948)\u001b[0m         \n",
            "\u001b[36m(ClientAppActor pid=6948)\u001b[0m \n",
            "\u001b[36m(ClientAppActor pid=6948)\u001b[0m         \n",
            "\u001b[36m(ClientAppActor pid=6948)\u001b[0m \n",
            "\u001b[36m(ClientAppActor pid=6948)\u001b[0m         \n",
            "\u001b[36m(ClientAppActor pid=6949)\u001b[0m \n",
            "\u001b[36m(ClientAppActor pid=6949)\u001b[0m         \n",
            "\u001b[36m(ClientAppActor pid=6949)\u001b[0m \n",
            "\u001b[36m(ClientAppActor pid=6949)\u001b[0m         \n",
            "\u001b[92mINFO \u001b[0m:      aggregate_evaluate: received 3 results and 0 failures\n",
            "\u001b[92mINFO \u001b[0m:      \n",
            "\u001b[92mINFO \u001b[0m:      [ROUND 4]\n",
            "\u001b[92mINFO \u001b[0m:      configure_fit: strategy sampled 3 clients (out of 3)\n",
            "\u001b[92mINFO \u001b[0m:      aggregate_fit: received 3 results and 0 failures\n",
            "\u001b[92mINFO \u001b[0m:      configure_evaluate: strategy sampled 3 clients (out of 3)\n",
            "\u001b[36m(ClientAppActor pid=6948)\u001b[0m \n",
            "\u001b[36m(ClientAppActor pid=6948)\u001b[0m         \n",
            "\u001b[36m(ClientAppActor pid=6948)\u001b[0m \n",
            "\u001b[36m(ClientAppActor pid=6948)\u001b[0m         \n",
            "\u001b[36m(ClientAppActor pid=6948)\u001b[0m \n",
            "\u001b[36m(ClientAppActor pid=6948)\u001b[0m         \n",
            "\u001b[36m(ClientAppActor pid=6948)\u001b[0m \n",
            "\u001b[36m(ClientAppActor pid=6948)\u001b[0m         \n",
            "\u001b[36m(ClientAppActor pid=6949)\u001b[0m \n",
            "\u001b[36m(ClientAppActor pid=6949)\u001b[0m         \n",
            "\u001b[92mINFO \u001b[0m:      aggregate_evaluate: received 3 results and 0 failures\n",
            "\u001b[92mINFO \u001b[0m:      \n",
            "\u001b[92mINFO \u001b[0m:      [ROUND 5]\n",
            "\u001b[92mINFO \u001b[0m:      configure_fit: strategy sampled 3 clients (out of 3)\n",
            "\u001b[92mINFO \u001b[0m:      aggregate_fit: received 3 results and 0 failures\n"
          ]
        },
        {
          "output_type": "stream",
          "name": "stdout",
          "text": [
            "\u001b[36m(ClientAppActor pid=6949)\u001b[0m \n",
            "\u001b[36m(ClientAppActor pid=6949)\u001b[0m            0       1.00      1.00      1.00        12\n",
            "\u001b[36m(ClientAppActor pid=6949)\u001b[0m            1       1.00      1.00      1.00         8\n",
            "\u001b[36m(ClientAppActor pid=6949)\u001b[0m \n",
            "\u001b[36m(ClientAppActor pid=6949)\u001b[0m \n",
            "\u001b[36m(ClientAppActor pid=6948)\u001b[0m \n",
            "\u001b[36m(ClientAppActor pid=6948)\u001b[0m            0       1.00      1.00      1.00        12\n",
            "\u001b[36m(ClientAppActor pid=6948)\u001b[0m            1       1.00      1.00      1.00         8\n",
            "\u001b[36m(ClientAppActor pid=6948)\u001b[0m \n",
            "\u001b[36m(ClientAppActor pid=6948)\u001b[0m \n",
            "\u001b[36m(ClientAppActor pid=6948)\u001b[0m \n",
            "\u001b[36m(ClientAppActor pid=6948)\u001b[0m            0       1.00      1.00      1.00        12\n",
            "\u001b[36m(ClientAppActor pid=6948)\u001b[0m            1       1.00      1.00      1.00         8\n",
            "\u001b[36m(ClientAppActor pid=6948)\u001b[0m \n",
            "\u001b[36m(ClientAppActor pid=6948)\u001b[0m \n",
            "\u001b[36m(ClientAppActor pid=6948)\u001b[0m \n",
            "\u001b[36m(ClientAppActor pid=6948)\u001b[0m            0       1.00      1.00      1.00        12\n",
            "\u001b[36m(ClientAppActor pid=6948)\u001b[0m            1       1.00      1.00      1.00         8\n",
            "\u001b[36m(ClientAppActor pid=6948)\u001b[0m \n",
            "\u001b[36m(ClientAppActor pid=6948)\u001b[0m \n"
          ]
        },
        {
          "output_type": "stream",
          "name": "stderr",
          "text": [
            "\u001b[92mINFO \u001b[0m:      configure_evaluate: strategy sampled 3 clients (out of 3)\n",
            "\u001b[36m(ClientAppActor pid=6948)\u001b[0m \n",
            "\u001b[36m(ClientAppActor pid=6948)\u001b[0m         \n",
            "\u001b[36m(ClientAppActor pid=6948)\u001b[0m \n",
            "\u001b[36m(ClientAppActor pid=6948)\u001b[0m         \n",
            "\u001b[36m(ClientAppActor pid=6948)\u001b[0m \n",
            "\u001b[36m(ClientAppActor pid=6948)\u001b[0m         \n",
            "\u001b[36m(ClientAppActor pid=6949)\u001b[0m \n",
            "\u001b[36m(ClientAppActor pid=6949)\u001b[0m         \n",
            "\u001b[36m(ClientAppActor pid=6949)\u001b[0m \n",
            "\u001b[36m(ClientAppActor pid=6949)\u001b[0m         \n",
            "\u001b[92mINFO \u001b[0m:      aggregate_evaluate: received 3 results and 0 failures\n",
            "\u001b[92mINFO \u001b[0m:      \n",
            "\u001b[92mINFO \u001b[0m:      [SUMMARY]\n",
            "\u001b[92mINFO \u001b[0m:      Run finished 5 round(s) in 0.79s\n",
            "\u001b[92mINFO \u001b[0m:      \tHistory (loss, distributed):\n",
            "\u001b[92mINFO \u001b[0m:      \t\tround 1: 0.0\n",
            "\u001b[92mINFO \u001b[0m:      \t\tround 2: 0.0\n",
            "\u001b[92mINFO \u001b[0m:      \t\tround 3: 0.0\n",
            "\u001b[92mINFO \u001b[0m:      \t\tround 4: 0.0\n",
            "\u001b[92mINFO \u001b[0m:      \t\tround 5: 0.0\n",
            "\u001b[92mINFO \u001b[0m:      \tHistory (metrics, distributed, evaluate):\n",
            "\u001b[92mINFO \u001b[0m:      \t{'accuracy': [(1, 1.0), (2, 1.0), (3, 1.0), (4, 1.0), (5, 1.0)]}\n",
            "\u001b[92mINFO \u001b[0m:      \n"
          ]
        },
        {
          "output_type": "stream",
          "name": "stdout",
          "text": [
            "\u001b[36m(ClientAppActor pid=6949)\u001b[0m \n",
            "\u001b[36m(ClientAppActor pid=6949)\u001b[0m            0       1.00      1.00      1.00        12\n",
            "\u001b[36m(ClientAppActor pid=6949)\u001b[0m            1       1.00      1.00      1.00         8\n",
            "\u001b[36m(ClientAppActor pid=6949)\u001b[0m \n",
            "\u001b[36m(ClientAppActor pid=6949)\u001b[0m \n",
            "\u001b[36m(ClientAppActor pid=6948)\u001b[0m \n",
            "\u001b[36m(ClientAppActor pid=6948)\u001b[0m            0       1.00      1.00      1.00        12\n",
            "\u001b[36m(ClientAppActor pid=6948)\u001b[0m            1       1.00      1.00      1.00         8\n",
            "\u001b[36m(ClientAppActor pid=6948)\u001b[0m \n",
            "\u001b[36m(ClientAppActor pid=6948)\u001b[0m \n",
            "\u001b[36m(ClientAppActor pid=6948)\u001b[0m \n",
            "\u001b[36m(ClientAppActor pid=6948)\u001b[0m            0       1.00      1.00      1.00        12\n",
            "\u001b[36m(ClientAppActor pid=6948)\u001b[0m            1       1.00      1.00      1.00         8\n",
            "\u001b[36m(ClientAppActor pid=6948)\u001b[0m \n",
            "\u001b[36m(ClientAppActor pid=6948)\u001b[0m \n"
          ]
        },
        {
          "output_type": "execute_result",
          "data": {
            "text/plain": [
              "History (loss, distributed):\n",
              "\tround 1: 0.0\n",
              "\tround 2: 0.0\n",
              "\tround 3: 0.0\n",
              "\tround 4: 0.0\n",
              "\tround 5: 0.0\n",
              "History (metrics, distributed, evaluate):\n",
              "{'accuracy': [(1, 1.0), (2, 1.0), (3, 1.0), (4, 1.0), (5, 1.0)]}"
            ]
          },
          "metadata": {},
          "execution_count": 17
        }
      ],
      "source": [
        "# Create FedAvg strategy\n",
        "strategy = fl.server.strategy.FedAvg(\n",
        "    fraction_fit=1.0,\n",
        "    fraction_evaluate=1.0,\n",
        "    min_fit_clients=2,\n",
        "    min_evaluate_clients=2,\n",
        "    min_available_clients=2,\n",
        "    evaluate_metrics_aggregation_fn=weighted_average, # <--- pass the metric aggregation function\n",
        ")\n",
        "\n",
        "fl.simulation.start_simulation(\n",
        "    client_fn=client_fn,\n",
        "    num_clients=NUM_CLIENTS,\n",
        "    config=fl.server.ServerConfig(num_rounds=5),\n",
        "    strategy=strategy,\n",
        "    client_resources=client_resources,\n",
        ")"
      ],
      "metadata": {
        "id": "K2742KALbvzQ",
        "outputId": "555f04bd-733a-4c27-8651-bf25b6ac0735",
        "colab": {
          "base_uri": "https://localhost:8080/"
        }
      }
    },
    {
      "cell_type": "markdown",
      "source": [
        "We now have a full system that performs federated training and federated evaluation. It uses the `weighted_average` function to aggregate custom evaluation metrics and calculate a single accuracy metric across all clients on the server side.\n",
        "\n",
        "The other two categories of metrics (`losses_centralized` and `metrics_centralized`) are still empty because they only apply when centralized evaluation is being used."
      ],
      "metadata": {
        "collapsed": false,
        "id": "fWsVy9AxbvzQ"
      }
    },
    {
      "cell_type": "markdown",
      "source": [
        "## Final remarks\n",
        "\n",
        "Congratulations, you just trained a Logistic Regression model, federated over 3 clients. With that, it was expected that you understand the basics of federated learning with Flower."
      ],
      "metadata": {
        "collapsed": false,
        "id": "L0UlXXS9bvzR"
      }
    },
    {
      "cell_type": "code",
      "execution_count": null,
      "outputs": [],
      "source": [],
      "metadata": {
        "id": "i8xaOkW6bvzR"
      }
    }
  ],
  "metadata": {
    "kernelspec": {
      "display_name": "Python 3",
      "language": "python",
      "name": "python3"
    },
    "language_info": {
      "codemirror_mode": {
        "name": "ipython",
        "version": 2
      },
      "file_extension": ".py",
      "mimetype": "text/x-python",
      "name": "python",
      "nbconvert_exporter": "python",
      "pygments_lexer": "ipython2",
      "version": "2.7.6"
    },
    "colab": {
      "provenance": []
    }
  },
  "nbformat": 4,
  "nbformat_minor": 0
}