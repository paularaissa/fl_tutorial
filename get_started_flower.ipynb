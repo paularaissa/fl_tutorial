{
 "cells": [
  {
   "cell_type": "markdown",
   "source": [
    "# Get Started with Flower Framework\n"
   ],
   "metadata": {
    "collapsed": false
   }
  },
  {
   "cell_type": "code",
   "execution_count": null,
   "outputs": [],
   "source": [
    "# Linux\n",
    "!pip install -q flwr[simulation] flwr_datasets[vision] torch torchvision matplotlib\n",
    "\n",
    "# MacOs\n",
    "#!pip3 install -U 'flwr[simulation]' torch torchvision scipy"
   ],
   "metadata": {
    "collapsed": false
   }
  }
 ],
 "metadata": {
  "kernelspec": {
   "display_name": "Python 3",
   "language": "python",
   "name": "python3"
  },
  "language_info": {
   "codemirror_mode": {
    "name": "ipython",
    "version": 2
   },
   "file_extension": ".py",
   "mimetype": "text/x-python",
   "name": "python",
   "nbconvert_exporter": "python",
   "pygments_lexer": "ipython2",
   "version": "2.7.6"
  }
 },
 "nbformat": 4,
 "nbformat_minor": 0
}
