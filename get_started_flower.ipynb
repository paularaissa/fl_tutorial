{
  "cells": [
    {
      "cell_type": "markdown",
      "source": [
        "# Get Started with Flower Framework\n",
        "\n",
        "Welcome to Federated Learning Tutorial using Flower Framework. Flower is a unified approach to federated learning, analytics, and evaluation. Open source, python, and easy to learn and personalize.\n",
        "\n",
        "https://flower.ai/"
      ],
      "metadata": {
        "collapsed": false,
        "id": "patF0uwCWjaB"
      }
    },
    {
      "cell_type": "markdown",
      "source": [
        "## Step 0: Preparation\n",
        "\n",
        "Before we begin with any actual code, let's make sure that we have everything we need.\n",
        "\n",
        "### Instaling dependencies\n",
        "First, we should install the necessary packages"
      ],
      "metadata": {
        "id": "s4VRMk-vZKP8"
      }
    },
    {
      "cell_type": "code",
      "execution_count": 3,
      "outputs": [],
      "source": [
        "# Linux\n",
        "!pip install -q flwr[simulation] matplotlib\n",
        "\n",
        "# MacOs\n",
        "#!pip3 install -U 'flwr[simulation]' torch torchvision scipy"
      ],
      "metadata": {
        "id": "kFrw3tmbWjaE"
      }
    },
    {
      "cell_type": "markdown",
      "source": [
        "Now that we have all dependencies installed, we can import everything we need for this tutorial:"
      ],
      "metadata": {
        "id": "VkOhnSiq-HZY"
      }
    },
    {
      "cell_type": "code",
      "source": [
        "from collections import OrderedDict\n",
        "from typing import List, Tuple\n",
        "\n",
        "import matplotlib.pyplot as plt\n",
        "import requests\n",
        "import pandas as pd\n",
        "import numpy as np\n",
        "\n",
        "import flwr as fl\n",
        "from flwr.common import Metrics\n",
        "\n",
        "from sklearn.model_selection import train_test_split\n",
        "from sklearn.linear_model import LogisticRegression\n",
        "from sklearn.metrics import accuracy_score\n",
        "from sklearn.datasets import load_iris"
      ],
      "metadata": {
        "id": "l9QJfmzK-UPt"
      },
      "execution_count": 4,
      "outputs": []
    },
    {
      "cell_type": "markdown",
      "source": [
        "It is possible to switch to a runtime that has GPU acceleration enabled (on Google Colab: Runtime > Change runtime type > Hardware accelerator: GPU > Save). Note, however, that Google Colab is not always able to offer GPU acceleration. If you see an error related to GPU availability in one of the following sections, consider switching back to CPU-based execution by setting DEVICE = torch.device(\"cpu\"). If the runtime has GPU acceleration enabled, you should see the output Training on cuda, otherwise it'll say Training on cpu."
      ],
      "metadata": {
        "id": "v5lpiayB-Xq6"
      }
    },
    {
      "cell_type": "markdown",
      "source": [
        "### Loading the data\n",
        "\n",
        "Federated learning can be applied to many different types of tasks across different domains. In this tutorial, we introduce federated learning by training a simple Linear Regression on the popular Abalone dataset. Abalone can be used in classification and regression tasks using 9 features: Sex, Length, Diameter, Height, Whole_weight, Shucked_weight, Viscera_weight, Shell_weight, and Rings."
      ],
      "metadata": {
        "id": "mC9VXsYY-ilX"
      }
    },
    {
      "cell_type": "markdown",
      "source": [
        "We simulate having multiple datasets from multiple organizations (also called the \"cross-silo\" setting in federated learning) by splitting the original Abalone dataset into multiple partitions. Each partition will represent the data from a single organization. We're doing this purely for experimentation purposes.\n",
        "\n",
        "Each organization will act as a client in the federated learning system. So having 3 organizations participate in a federation means having 3 clients connected to the federated learning server.\n"
      ],
      "metadata": {
        "id": "e6NDMtfXAcHt"
      }
    },
    {
      "cell_type": "markdown",
      "source": [
        "Let's now create the Federated Dataset abstraction that from flwr-datasets that partitions the Abalone. We will create small training and test set for each edge device and wrap each of them into a PyTorch DataLoader:"
      ],
      "metadata": {
        "id": "Rf89sMcRAy8q"
      }
    },
    {
      "cell_type": "code",
      "source": [
        "NUM_CLIENTS = 3\n",
        "BATCH_SIZE = 32\n",
        "\n",
        "# def load_datasets():\n",
        "#   # URL dataset Abalone at UCI\n",
        "#   url = \"https://archive.ics.uci.edu/ml/machine-learning-databases/abalone/abalone.data\"\n",
        "\n",
        "#   # Name of columns in the Abalone dataset\n",
        "#   columns = [\"Sex\", \"Length\", \"Diameter\", \"Height\", \"Whole_weight\", \"Shucked_weight\",\n",
        "#             \"Viscera_weight\", \"Shell_weight\", \"Rings\"]\n",
        "\n",
        "#   # Downloading the dataset\n",
        "#   response = requests.get(url)\n",
        "#   response.raise_for_status()  # Verifica se a requisição foi bem sucedida\n",
        "\n",
        "#   # Saving content to a local file (optional)\n",
        "#   with open(\"abalone.data\", \"wb\") as file:\n",
        "#       file.write(response.content)\n",
        "\n",
        "#   # Loading the dataset into a Pandas DataFrame\n",
        "#   df = pd.read_csv(url, header=None, names=columns)\n",
        "\n",
        "#   # Using numpy array_split to split DataFrame into NUM_CLIENTS parts\n",
        "#   partition = np.array_split(df, NUM_CLIENTS)\n",
        "\n",
        "#   trainloaders = []\n",
        "#   testloaders = []\n",
        "#   # Splitting each partition into training and testing sets\n",
        "#   for i, part in enumerate(partition):\n",
        "#     trainloaders, testloaders = train_test_split(part, test_size=0.2, random_state=42)  # 80% train, 20% test\n",
        "\n",
        "#   return trainloaders, testloaders\n",
        "\n",
        "\n",
        "# # trainloaders, valloaders, testloader = load_datasets()\n",
        "# load_datasets()\n",
        "\n",
        "def load_data():\n",
        "    data = load_iris()\n",
        "    X, y = data.data, data.target\n",
        "    X_train, X_test, y_train, y_test = train_test_split(X, y, test_size=0.2, random_state=42)\n",
        "    return X_train, X_test, y_train, y_test\n",
        "\n",
        "def partition_data(X, y, num_clients):\n",
        "    partition_size = len(X) // num_clients\n",
        "    partitions = [(X[i * partition_size:(i + 1) * partition_size],\n",
        "                   y[i * partition_size:(i + 1) * partition_size])\n",
        "                  for i in range(num_clients)]\n",
        "    return partitions\n"
      ],
      "metadata": {
        "id": "_9moWzo8A5SF"
      },
      "execution_count": 5,
      "outputs": []
    },
    {
      "cell_type": "markdown",
      "source": [
        "### Implementing Flower Client"
      ],
      "metadata": {
        "id": "lLOd_wKsOFvm"
      }
    },
    {
      "cell_type": "code",
      "source": [
        "class SklearnClient(fl.client.NumPyClient):\n",
        "    def __init__(self, X_train, y_train, X_test, y_test):\n",
        "        self.model = LogisticRegression(max_iter=100)\n",
        "        self.X_train = X_train\n",
        "        self.y_train = y_train\n",
        "        self.X_test = X_test\n",
        "        self.y_test = y_test\n",
        "\n",
        "    def get_parameters(self):\n",
        "        return [val for _, val in sorted(self.model.get_params().items())]\n",
        "\n",
        "    def set_parameters(self, parameters):\n",
        "        params_dict = {k: v for k, v in zip(sorted(self.model.get_params().keys()), parameters)}\n",
        "        self.model.set_params(**params_dict)\n",
        "\n",
        "    def fit(self, parameters, config):\n",
        "        self.set_parameters(parameters)\n",
        "        self.model.fit(self.X_train, self.y_train)\n",
        "        return self.get_parameters(), len(self.X_train), {}\n",
        "\n",
        "    def evaluate(self, parameters, config):\n",
        "        self.set_parameters(parameters)\n",
        "        y_pred = self.model.predict(self.X_test)\n",
        "        loss = 1 - accuracy_score(self.y_test, y_pred)\n",
        "        return loss, len(self.X_test), {}\n"
      ],
      "metadata": {
        "id": "SufAPyiYOFgo"
      },
      "execution_count": 6,
      "outputs": []
    },
    {
      "cell_type": "markdown",
      "source": [
        "### Using the Virtual Client Engine"
      ],
      "metadata": {
        "id": "WbAryD6NOPO9"
      }
    },
    {
      "cell_type": "code",
      "source": [
        "def client_fn(cid: str) -> SklearnClient:\n",
        "    X_train, X_test, y_train, y_test = load_data()\n",
        "    num_clients = 3  # Number of clients should match the number of partitions\n",
        "    partitions = partition_data(X_train, y_train, num_clients)\n",
        "\n",
        "    partition_id = int(cid)\n",
        "    X_train_cid, y_train_cid = partitions[partition_id]\n",
        "\n",
        "    return SklearnClient(X_train_cid, y_train_cid, X_test, y_test)\n"
      ],
      "metadata": {
        "id": "C4_MPS4YOTcV"
      },
      "execution_count": 7,
      "outputs": []
    },
    {
      "cell_type": "markdown",
      "source": [
        "### Start the training"
      ],
      "metadata": {
        "id": "ed1ovJDoOX2w"
      }
    },
    {
      "cell_type": "code",
      "source": [
        "# Define the strategy\n",
        "strategy = fl.server.strategy.FedAvg(\n",
        "    fraction_fit=1.0,\n",
        "    fraction_evaluate=1.0,\n",
        "    min_fit_clients=2,\n",
        "    min_evaluate_clients=2,\n",
        "    min_available_clients=2,\n",
        ")\n",
        "\n",
        "# Simulation configuration\n",
        "client_resources = {\"num_cpus\": 1}\n",
        "num_clients = 3\n",
        "num_rounds = 5\n"
      ],
      "metadata": {
        "id": "MDH8GbikOaak"
      },
      "execution_count": 8,
      "outputs": []
    },
    {
      "cell_type": "code",
      "source": [
        "fl.simulation.start_simulation(\n",
        "  strategy=strategy,\n",
        "  client_fn=client_fn,\n",
        "  num_clients=num_clients,\n",
        "  config=fl.server.ServerConfig(num_rounds=num_rounds, round_timeout=None),\n",
        "  client_resources=client_resources,\n",
        ")\n"
      ],
      "metadata": {
        "id": "l54CPPlds0Z7"
      },
      "execution_count": null,
      "outputs": []
    }
  ],
  "metadata": {
    "kernelspec": {
      "display_name": "Python 3",
      "language": "python",
      "name": "python3"
    },
    "language_info": {
      "codemirror_mode": {
        "name": "ipython",
        "version": 2
      },
      "file_extension": ".py",
      "mimetype": "text/x-python",
      "name": "python",
      "nbconvert_exporter": "python",
      "pygments_lexer": "ipython2",
      "version": "2.7.6"
    },
    "colab": {
      "provenance": []
    }
  },
  "nbformat": 4,
  "nbformat_minor": 0
}